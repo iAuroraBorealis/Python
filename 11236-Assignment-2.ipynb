{
 "cells": [
  {
   "cell_type": "markdown",
   "metadata": {},
   "source": [
    "<h3>Q no 1:  Write a python program to find number of occurrences of given number in a list with out using built-in methods</h3>\n",
    "<h4>**1 generate a list of some random num which is repeated again and again</h4>\n",
    "<h4>**2 take user input any number</h4>\n",
    "<h4>**3 find the number of occurrences of that num in your list</h4>\n",
    "<h4>**4 print some message to user with that result</h4>"
   ]
  },
  {
   "cell_type": "code",
   "execution_count": 1,
   "metadata": {},
   "outputs": [],
   "source": [
    "my_list = [1, 2, 2, 1, 4, 2, 3, 8, 9, 7, 7, 6, 5, 4, 1, 9, 7, 7, 0, 2, 1, 8, 6, 6, 4, 0, 2, 3, 1, 0]"
   ]
  },
  {
   "cell_type": "code",
   "execution_count": 8,
   "metadata": {},
   "outputs": [
    {
     "name": "stdout",
     "output_type": "stream",
     "text": [
      "Please enter any digit from 0 to 9: 5\n",
      "The number 5 was found in the list 1 time(s).\n"
     ]
    }
   ],
   "source": [
    "x = int(input(\"Please enter any digit from 0 to 9: \"))\n",
    "\n",
    "def find(num):\n",
    "    count = 0\n",
    "    i = 0\n",
    "    for i in my_list:\n",
    "        if i==num:\n",
    "            count += 1\n",
    "    return count\n",
    "\n",
    "print(\"The number \"+str(x) +\" was found in the list \"+str(find(x))+\" time(s).\")"
   ]
  },
  {
   "cell_type": "markdown",
   "metadata": {},
   "source": [
    "<h3>Q no 2:   [\"www.zframez.com\", \"www.wikipedia.org\", \"www.asp.net\", \"www.abcd.in\"]\n",
    "<br/><br/>\n",
    "Write a python program to print website suffixes (com , org , net ,in) from this list\n",
    "</h3>"
   ]
  },
  {
   "cell_type": "code",
   "execution_count": 11,
   "metadata": {},
   "outputs": [],
   "source": [
    "websites = [\"www.zframez.com\", \"www.wikipedia.org\", \"www.asp.net\", \"www.abcd.in\"] "
   ]
  },
  {
   "cell_type": "code",
   "execution_count": 15,
   "metadata": {},
   "outputs": [
    {
     "name": "stdout",
     "output_type": "stream",
     "text": [
      "['com', 'org', 'net', 'in']\n"
     ]
    }
   ],
   "source": [
    "suffixes = []\n",
    "for website in websites:\n",
    "    suffixes.append((website.split(\".\")).pop())\n",
    "\n",
    "print(suffixes)"
   ]
  },
  {
   "cell_type": "markdown",
   "metadata": {},
   "source": [
    "<h3> Q no 3 : Write a program which can compute the factorial of a given numbers.</h3>\n",
    "<br/>\n",
    "<h4>**1 first take user input any number</h4>\n",
    "<h4>**2 calculate factorial of that input and then print the result to user</h4>"
   ]
  },
  {
   "cell_type": "code",
   "execution_count": 23,
   "metadata": {},
   "outputs": [
    {
     "name": "stdout",
     "output_type": "stream",
     "text": [
      "Please enter any number: 5\n"
     ]
    }
   ],
   "source": [
    "x = int(input(\"Please enter any number: \"))"
   ]
  },
  {
   "cell_type": "code",
   "execution_count": 24,
   "metadata": {},
   "outputs": [
    {
     "name": "stdout",
     "output_type": "stream",
     "text": [
      "Factorial of 5 is = 120\n"
     ]
    }
   ],
   "source": [
    "def factorial(num):\n",
    "    if num > 1:\n",
    "        return (num * factorial(num-1))\n",
    "    elif num == 1:\n",
    "        return 1\n",
    "    elif num== 0:\n",
    "        return 0\n",
    "    else: print(\"Try Again!\")\n",
    "\n",
    "print(\"Factorial of \"+str(x)+\" is = \"+str(factorial(x)))"
   ]
  },
  {
   "cell_type": "markdown",
   "metadata": {},
   "source": [
    "<h3>Q 4 (a) :  If you could invite anyone, living or deceased, to dinner, who\n",
    "would you invite? Make a list that includes at least three people you’d like to\n",
    "invite to dinner. Then use your list to print a message to each person, inviting\n",
    "them to dinner.</h3>"
   ]
  },
  {
   "cell_type": "code",
   "execution_count": 51,
   "metadata": {},
   "outputs": [],
   "source": [
    "guests = [\"Ziaullah Khan\", \"Salman Ansari\", \"Atta ur Rehman\", \"Rabia Garib\", \"Molouk Y. BaIsa\", \"Dr. Abdul Qadeer Khan\"]"
   ]
  },
  {
   "cell_type": "code",
   "execution_count": 52,
   "metadata": {},
   "outputs": [
    {
     "name": "stdout",
     "output_type": "stream",
     "text": [
      "Dear Ziaullah Khan, you are coordally invited to dinner tonight at 7PM!\n",
      "Dear Salman Ansari, you are coordally invited to dinner tonight at 7PM!\n",
      "Dear Atta ur Rehman, you are coordally invited to dinner tonight at 7PM!\n",
      "Dear Rabia Garib, you are coordally invited to dinner tonight at 7PM!\n",
      "Dear Molouk Y. BaIsa, you are coordally invited to dinner tonight at 7PM!\n",
      "Dear Dr. Abdul Qadeer Khan, you are coordally invited to dinner tonight at 7PM!\n"
     ]
    }
   ],
   "source": [
    "def invite(guests):\n",
    "    for guest in guests:\n",
    "        print(\"Dear \"+guest+\", you are coordally invited to dinner tonight at 7PM!\")\n",
    "invite(guests)"
   ]
  },
  {
   "cell_type": "markdown",
   "metadata": {},
   "source": [
    "<h3>Q 4 (b) : You just heard that one of your guests can’t make the\n",
    "dinner, so you need to send out a new set of invitations. You’ll have to think of\n",
    "someone else to invite.<br/></br><br/>\n",
    "•\t Start with your program from Q 4 (a). Add a print statement at the\n",
    "end of your program stating the name of the guest who can’t make it.<br/></br><br/>\n",
    "•\t Modify your list, replacing the name of the guest who can’t make it with\n",
    "the name of the new person you are inviting.<br/></br><br/>\n",
    "•\t Print a second set of invitation messages, one for each person who is still\n",
    "in your list.<br/></br><br/></h3>"
   ]
  },
  {
   "cell_type": "code",
   "execution_count": 53,
   "metadata": {},
   "outputs": [
    {
     "name": "stdout",
     "output_type": "stream",
     "text": [
      "Molouk Y. BaIsa will not be able to attend the dinner, unfortunately.\n",
      "Dear Ziaullah Khan, you are coordally invited to dinner tonight at 7PM!\n",
      "Dear Salman Ansari, you are coordally invited to dinner tonight at 7PM!\n",
      "Dear Atta ur Rehman, you are coordally invited to dinner tonight at 7PM!\n",
      "Dear Rabia Garib, you are coordally invited to dinner tonight at 7PM!\n",
      "Dear Imran Khan, you are coordally invited to dinner tonight at 7PM!\n",
      "Dear Dr. Abdul Qadeer Khan, you are coordally invited to dinner tonight at 7PM!\n"
     ]
    }
   ],
   "source": [
    "def replace(g, name):\n",
    "    print(g+\" will not be able to attend the dinner, unfortunately.\")\n",
    "    i = guests.index(g)\n",
    "    del guests[i]\n",
    "    guests.insert(i, name)\n",
    "    \n",
    "replace(\"Molouk Y. BaIsa\", \"Imran Khan\")\n",
    "invite(guests)"
   ]
  },
  {
   "cell_type": "markdown",
   "metadata": {},
   "source": [
    "<h3>Q 4 (c) : You just found a bigger dinner table, so now more space is\n",
    "available. Think of three more guests to invite to dinner.<br/></br><br/>\n",
    "•\t Start with your program from Q 4 (a) and (b) Add a print\n",
    "statement to the end of your program informing people that you found a\n",
    "bigger dinner table.<br/></br><br/>\n",
    "•\t Use insert() to add one new guest to the beginning of your list.<br/></br><br/>\n",
    "•\t Use insert() to add one new guest to the middle of your list.<br/></br><br/>\n",
    "•\t Use append() to add one new guest to the end of your list.<br/></br><br/>\n",
    "•\t Print a new set of invitation messages, one for each person in your list.<br/></br><br/></h3>"
   ]
  },
  {
   "cell_type": "code",
   "execution_count": 54,
   "metadata": {},
   "outputs": [
    {
     "name": "stdout",
     "output_type": "stream",
     "text": [
      "We have just found a bigger dinner table!\n"
     ]
    }
   ],
   "source": [
    "print(\"We have just found a bigger dinner table!\")"
   ]
  },
  {
   "cell_type": "code",
   "execution_count": 55,
   "metadata": {},
   "outputs": [
    {
     "name": "stdout",
     "output_type": "stream",
     "text": [
      "Dear Albert Einstein, you are coordally invited to dinner tonight at 7PM!\n",
      "Dear Ziaullah Khan, you are coordally invited to dinner tonight at 7PM!\n",
      "Dear Salman Ansari, you are coordally invited to dinner tonight at 7PM!\n",
      "Dear Allama Iqbal, you are coordally invited to dinner tonight at 7PM!\n",
      "Dear Atta ur Rehman, you are coordally invited to dinner tonight at 7PM!\n",
      "Dear Rabia Garib, you are coordally invited to dinner tonight at 7PM!\n",
      "Dear Imran Khan, you are coordally invited to dinner tonight at 7PM!\n",
      "Dear Dr. Abdul Qadeer Khan, you are coordally invited to dinner tonight at 7PM!\n",
      "Dear Mohammad Ali Jinnah, you are coordally invited to dinner tonight at 7PM!\n"
     ]
    }
   ],
   "source": [
    "guests.insert(0, \"Albert Einstein\")\n",
    "guests.insert(int(len(guests)/2), \"Allama Iqbal\")\n",
    "guests.append(\"Mohammad Ali Jinnah\")\n",
    "\n",
    "invite(guests)"
   ]
  },
  {
   "cell_type": "markdown",
   "metadata": {},
   "source": [
    "<h5> Q 5 : Here you have some data in variable below, your task is to make a list of specific word Surah then print the list and length of list</h5>\n"
   ]
  },
  {
   "cell_type": "code",
   "execution_count": 66,
   "metadata": {},
   "outputs": [],
   "source": [
    "data = \"Surah I Who believe in the Unseen, Surah Are steadfast in prayer, And spend Surah out of what We Have provided for them;\"\n"
   ]
  },
  {
   "cell_type": "code",
   "execution_count": 65,
   "metadata": {},
   "outputs": [
    {
     "name": "stdout",
     "output_type": "stream",
     "text": [
      "['Surah', 'Surah', 'Surah']\n",
      "3\n",
      "['', 'I Who believe in the Unseen, ', 'Are steadfast in prayer, And spend ', 'out of what We Have provided for them;']\n",
      "4\n"
     ]
    }
   ],
   "source": [
    "def implement_A(data):\n",
    "    data_list = data.split(\" \")\n",
    "    spec_list = []\n",
    "    for word in data_list:\n",
    "        if word == \"Surah\":\n",
    "            spec_list.append(word)\n",
    "\n",
    "    print(spec_list, len(spec_list), sep=\"\\n\")\n",
    "\n",
    "def implement_B(data):\n",
    "    data_list = data.split(\"Surah\")\n",
    "    print(data_list, len(data_list), sep=\"\\n\")\n",
    "    \n",
    "implement_A(data)\n",
    "implement_B(data)"
   ]
  },
  {
   "cell_type": "markdown",
   "metadata": {},
   "source": [
    "Note that I did not quite understad the question so i solved it according to my two separate inferences."
   ]
  }
 ],
 "metadata": {
  "kernelspec": {
   "display_name": "Python 3",
   "language": "python",
   "name": "python3"
  },
  "language_info": {
   "codemirror_mode": {
    "name": "ipython",
    "version": 3
   },
   "file_extension": ".py",
   "mimetype": "text/x-python",
   "name": "python",
   "nbconvert_exporter": "python",
   "pygments_lexer": "ipython3",
   "version": "3.6.5"
  }
 },
 "nbformat": 4,
 "nbformat_minor": 2
}
